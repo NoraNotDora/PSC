{
 "cells": [
  {
   "cell_type": "code",
   "execution_count": 1,
   "id": "87daa582-2fd7-4324-abec-f2eb1718e786",
   "metadata": {},
   "outputs": [
    {
     "name": "stderr",
     "output_type": "stream",
     "text": [
      "/root/miniconda3/lib/python3.8/site-packages/torch/_utils.py:776: UserWarning: TypedStorage is deprecated. It will be removed in the future and UntypedStorage will be the only storage class. This should only matter to you if you are using storages directly.  To access UntypedStorage directly, use tensor.untyped_storage() instead of tensor.storage()\n",
      "  return self.fget.__get__(instance, owner)()\n"
     ]
    }
   ],
   "source": [
    "from transformers import AutoModelForCausalLM, AutoTokenizer\n",
    "from transformers import pipeline\n",
    "\n",
    "model_name = \"../../okt/model/gpt_code_v1_student\"\n",
    "model = AutoModelForCausalLM.from_pretrained(model_name)\n",
    "tokenizer = AutoTokenizer.from_pretrained('gpt2')"
   ]
  },
  {
   "cell_type": "code",
   "execution_count": 2,
   "id": "2144ebb5-fe64-48d8-b6b1-aef62dd5f977",
   "metadata": {},
   "outputs": [
    {
     "name": "stdout",
     "output_type": "stream",
     "text": [
      "                                                Code  \\\n",
      "0  public int countClumps(int[] nums)\\n{\\n    int...   \n",
      "1  public int countClumps(int[] nums)\\n{\\n    int...   \n",
      "2  public int countClumps(int[] nums)\\n{\\n    int...   \n",
      "3  public int countClumps(int[] nums)\\n{\\n    int...   \n",
      "4  public int countClumps(int[] nums)\\n{\\n    int...   \n",
      "\n",
      "                                              prompt  \n",
      "0  Say that a \"clump\" in an array is a series of ...  \n",
      "1  Say that a \"clump\" in an array is a series of ...  \n",
      "2  Say that a \"clump\" in an array is a series of ...  \n",
      "3  Say that a \"clump\" in an array is a series of ...  \n",
      "4  Say that a \"clump\" in an array is a series of ...  \n"
     ]
    }
   ],
   "source": [
    "#数据读取\n",
    "\n",
    "import time\n",
    "import pandas as pd\n",
    "import torch\n",
    "\n",
    "dataset=pd.read_csv('testdata.csv')\n",
    "print(dataset.head())\n",
    "\n",
    "torch.cuda.empty_cache()"
   ]
  },
  {
   "cell_type": "code",
   "execution_count": 5,
   "id": "fb972798-5824-4041-a036-d546c0e7ed2f",
   "metadata": {},
   "outputs": [
    {
     "name": "stderr",
     "output_type": "stream",
     "text": [
      "Setting `pad_token_id` to `eos_token_id`:50256 for open-end generation.\n",
      "Setting `pad_token_id` to `eos_token_id`:50256 for open-end generation.\n",
      "Setting `pad_token_id` to `eos_token_id`:50256 for open-end generation.\n",
      "Setting `pad_token_id` to `eos_token_id`:50256 for open-end generation.\n",
      "Setting `pad_token_id` to `eos_token_id`:50256 for open-end generation.\n",
      "Setting `pad_token_id` to `eos_token_id`:50256 for open-end generation.\n",
      "Setting `pad_token_id` to `eos_token_id`:50256 for open-end generation.\n",
      "Setting `pad_token_id` to `eos_token_id`:50256 for open-end generation.\n",
      "Setting `pad_token_id` to `eos_token_id`:50256 for open-end generation.\n",
      "Setting `pad_token_id` to `eos_token_id`:50256 for open-end generation.\n",
      "Setting `pad_token_id` to `eos_token_id`:50256 for open-end generation.\n",
      "Setting `pad_token_id` to `eos_token_id`:50256 for open-end generation.\n",
      "Setting `pad_token_id` to `eos_token_id`:50256 for open-end generation.\n",
      "Setting `pad_token_id` to `eos_token_id`:50256 for open-end generation.\n",
      "Setting `pad_token_id` to `eos_token_id`:50256 for open-end generation.\n",
      "Setting `pad_token_id` to `eos_token_id`:50256 for open-end generation.\n",
      "Setting `pad_token_id` to `eos_token_id`:50256 for open-end generation.\n",
      "Setting `pad_token_id` to `eos_token_id`:50256 for open-end generation.\n",
      "Setting `pad_token_id` to `eos_token_id`:50256 for open-end generation.\n",
      "Setting `pad_token_id` to `eos_token_id`:50256 for open-end generation.\n",
      "Setting `pad_token_id` to `eos_token_id`:50256 for open-end generation.\n",
      "Setting `pad_token_id` to `eos_token_id`:50256 for open-end generation.\n",
      "Setting `pad_token_id` to `eos_token_id`:50256 for open-end generation.\n",
      "Setting `pad_token_id` to `eos_token_id`:50256 for open-end generation.\n",
      "Setting `pad_token_id` to `eos_token_id`:50256 for open-end generation.\n",
      "Setting `pad_token_id` to `eos_token_id`:50256 for open-end generation.\n",
      "Setting `pad_token_id` to `eos_token_id`:50256 for open-end generation.\n",
      "Setting `pad_token_id` to `eos_token_id`:50256 for open-end generation.\n",
      "Setting `pad_token_id` to `eos_token_id`:50256 for open-end generation.\n",
      "Setting `pad_token_id` to `eos_token_id`:50256 for open-end generation.\n",
      "Setting `pad_token_id` to `eos_token_id`:50256 for open-end generation.\n",
      "Setting `pad_token_id` to `eos_token_id`:50256 for open-end generation.\n",
      "Setting `pad_token_id` to `eos_token_id`:50256 for open-end generation.\n",
      "Setting `pad_token_id` to `eos_token_id`:50256 for open-end generation.\n",
      "Setting `pad_token_id` to `eos_token_id`:50256 for open-end generation.\n",
      "Setting `pad_token_id` to `eos_token_id`:50256 for open-end generation.\n",
      "Setting `pad_token_id` to `eos_token_id`:50256 for open-end generation.\n",
      "Setting `pad_token_id` to `eos_token_id`:50256 for open-end generation.\n",
      "Setting `pad_token_id` to `eos_token_id`:50256 for open-end generation.\n",
      "Setting `pad_token_id` to `eos_token_id`:50256 for open-end generation.\n",
      "Setting `pad_token_id` to `eos_token_id`:50256 for open-end generation.\n",
      "Setting `pad_token_id` to `eos_token_id`:50256 for open-end generation.\n",
      "Setting `pad_token_id` to `eos_token_id`:50256 for open-end generation.\n",
      "Setting `pad_token_id` to `eos_token_id`:50256 for open-end generation.\n",
      "Setting `pad_token_id` to `eos_token_id`:50256 for open-end generation.\n",
      "Setting `pad_token_id` to `eos_token_id`:50256 for open-end generation.\n",
      "Setting `pad_token_id` to `eos_token_id`:50256 for open-end generation.\n",
      "Setting `pad_token_id` to `eos_token_id`:50256 for open-end generation.\n",
      "Setting `pad_token_id` to `eos_token_id`:50256 for open-end generation.\n",
      "Setting `pad_token_id` to `eos_token_id`:50256 for open-end generation.\n"
     ]
    }
   ],
   "source": [
    "generate_codes=[]\n",
    "\n",
    "for i in range(50):\n",
    "    p=tokenizer(dataset.loc[i,'prompt'],return_tensors=\"pt\")\n",
    "    item=model.generate(**p,max_new_tokens=200)\n",
    "    item=tokenizer.decode(item[0])\n",
    "    generate_codes.append(item)"
   ]
  },
  {
   "cell_type": "code",
   "execution_count": 6,
   "id": "62f3802b-2319-46ff-893f-992fab2cc941",
   "metadata": {},
   "outputs": [],
   "source": [
    "gen=pd.DataFrame(generate_codes)\n",
    "gen.to_csv('res_gpt2.csv')"
   ]
  },
  {
   "cell_type": "code",
   "execution_count": 7,
   "id": "7dabc852-f102-4bd0-8f5c-9731414e182f",
   "metadata": {},
   "outputs": [
    {
     "name": "stdout",
     "output_type": "stream",
     "text": [
      "50\n",
      "['Say that a \"clump\" in an array is a series of 2 or more adjacent elements of the same value. Return the number of clumps in the given array.\\npublic int countClumps(int[] nums)\\r\\n{\\r\\n    int clumps = 0;\\r\\n    for (int i = 0; i < nums.length - 1; i++)\\r\\n    {\\r\\n        if (nums[i] == nums[i+1])\\r\\n        {\\r\\n            clumps++;\\r\\n        }\\r\\n    }\\r\\n    return clumps;\\r\\n}\\r\\n<|endoftext|>', 'Say that a \"clump\" in an array is a series of 2 or more adjacent elements of the same value. Return the number of clumps in the given array.\\npublic int countClumps(int[] nums)\\r\\n{\\r\\n    int clumps = 0;\\r\\n    for (int i = 0; i < nums.length - 1; i++)\\r\\n    {\\r\\n        if (nums[i] == nums[i+1])\\r\\n        {\\r\\n            clumps++;\\r\\n        }\\r\\n    }\\r\\n    return clumps;\\r\\n}\\r\\n<|endoftext|>', 'Say that a \"clump\" in an array is a series of 2 or more adjacent elements of the same value. Return the number of clumps in the given array.\\npublic int countClumps(int[] nums)\\r\\n{\\r\\n    int clumps = 0;\\r\\n    for (int i = 0; i < nums.length - 1; i++)\\r\\n    {\\r\\n        if (nums[i] == nums[i+1])\\r\\n        {\\r\\n            clumps++;\\r\\n        }\\r\\n    }\\r\\n    return clumps;\\r\\n}\\r\\n<|endoftext|>', 'Say that a \"clump\" in an array is a series of 2 or more adjacent elements of the same value. Return the number of clumps in the given array.\\npublic int countClumps(int[] nums)\\r\\n{\\r\\n    int clumps = 0;\\r\\n    for (int i = 0; i < nums.length - 1; i++)\\r\\n    {\\r\\n        if (nums[i] == nums[i+1])\\r\\n        {\\r\\n            clumps++;\\r\\n        }\\r\\n    }\\r\\n    return clumps;\\r\\n}\\r\\n<|endoftext|>', 'Say that a \"clump\" in an array is a series of 2 or more adjacent elements of the same value. Return the number of clumps in the given array.\\npublic int countClumps(int[] nums)\\r\\n{\\r\\n    int clumps = 0;\\r\\n    for (int i = 0; i < nums.length - 1; i++)\\r\\n    {\\r\\n        if (nums[i] == nums[i+1])\\r\\n        {\\r\\n            clumps++;\\r\\n        }\\r\\n    }\\r\\n    return clumps;\\r\\n}\\r\\n<|endoftext|>', 'Say that a \"clump\" in an array is a series of 2 or more adjacent elements of the same value. Return the number of clumps in the given array.\\npublic int countClumps(int[] nums)\\r\\n{\\r\\n    int clumps = 0;\\r\\n    for (int i = 0; i < nums.length - 1; i++)\\r\\n    {\\r\\n        if (nums[i] == nums[i+1])\\r\\n        {\\r\\n            clumps++;\\r\\n        }\\r\\n    }\\r\\n    return clumps;\\r\\n}\\r\\n<|endoftext|>', 'Say that a \"clump\" in an array is a series of 2 or more adjacent elements of the same value. Return the number of clumps in the given array.\\npublic int countClumps(int[] nums)\\r\\n{\\r\\n    int clumps = 0;\\r\\n    for (int i = 0; i < nums.length - 1; i++)\\r\\n    {\\r\\n        if (nums[i] == nums[i+1])\\r\\n        {\\r\\n            clumps++;\\r\\n        }\\r\\n    }\\r\\n    return clumps;\\r\\n}\\r\\n<|endoftext|>', 'Say that a \"clump\" in an array is a series of 2 or more adjacent elements of the same value. Return the number of clumps in the given array.\\npublic int countClumps(int[] nums)\\r\\n{\\r\\n    int clumps = 0;\\r\\n    for (int i = 0; i < nums.length - 1; i++)\\r\\n    {\\r\\n        if (nums[i] == nums[i+1])\\r\\n        {\\r\\n            clumps++;\\r\\n        }\\r\\n    }\\r\\n    return clumps;\\r\\n}\\r\\n<|endoftext|>', 'Say that a \"clump\" in an array is a series of 2 or more adjacent elements of the same value. Return the number of clumps in the given array.\\npublic int countClumps(int[] nums)\\r\\n{\\r\\n    int clumps = 0;\\r\\n    for (int i = 0; i < nums.length - 1; i++)\\r\\n    {\\r\\n        if (nums[i] == nums[i+1])\\r\\n        {\\r\\n            clumps++;\\r\\n        }\\r\\n    }\\r\\n    return clumps;\\r\\n}\\r\\n<|endoftext|>', 'Say that a \"clump\" in an array is a series of 2 or more adjacent elements of the same value. Return the number of clumps in the given array.\\npublic int countClumps(int[] nums)\\r\\n{\\r\\n    int clumps = 0;\\r\\n    for (int i = 0; i < nums.length - 1; i++)\\r\\n    {\\r\\n        if (nums[i] == nums[i+1])\\r\\n        {\\r\\n            clumps++;\\r\\n        }\\r\\n    }\\r\\n    return clumps;\\r\\n}\\r\\n<|endoftext|>', 'Say that a \"clump\" in an array is a series of 2 or more adjacent elements of the same value. Return the number of clumps in the given array.\\npublic int countClumps(int[] nums)\\r\\n{\\r\\n    int clumps = 0;\\r\\n    for (int i = 0; i < nums.length - 1; i++)\\r\\n    {\\r\\n        if (nums[i] == nums[i+1])\\r\\n        {\\r\\n            clumps++;\\r\\n        }\\r\\n    }\\r\\n    return clumps;\\r\\n}\\r\\n<|endoftext|>', 'Say that a \"clump\" in an array is a series of 2 or more adjacent elements of the same value. Return the number of clumps in the given array.\\npublic int countClumps(int[] nums)\\r\\n{\\r\\n    int clumps = 0;\\r\\n    for (int i = 0; i < nums.length - 1; i++)\\r\\n    {\\r\\n        if (nums[i] == nums[i+1])\\r\\n        {\\r\\n            clumps++;\\r\\n        }\\r\\n    }\\r\\n    return clumps;\\r\\n}\\r\\n<|endoftext|>', 'Say that a \"clump\" in an array is a series of 2 or more adjacent elements of the same value. Return the number of clumps in the given array.\\npublic int countClumps(int[] nums)\\r\\n{\\r\\n    int clumps = 0;\\r\\n    for (int i = 0; i < nums.length - 1; i++)\\r\\n    {\\r\\n        if (nums[i] == nums[i+1])\\r\\n        {\\r\\n            clumps++;\\r\\n        }\\r\\n    }\\r\\n    return clumps;\\r\\n}\\r\\n<|endoftext|>', 'Say that a \"clump\" in an array is a series of 2 or more adjacent elements of the same value. Return the number of clumps in the given array.\\npublic int countClumps(int[] nums)\\r\\n{\\r\\n    int clumps = 0;\\r\\n    for (int i = 0; i < nums.length - 1; i++)\\r\\n    {\\r\\n        if (nums[i] == nums[i+1])\\r\\n        {\\r\\n            clumps++;\\r\\n        }\\r\\n    }\\r\\n    return clumps;\\r\\n}\\r\\n<|endoftext|>', 'Say that a \"clump\" in an array is a series of 2 or more adjacent elements of the same value. Return the number of clumps in the given array.\\npublic int countClumps(int[] nums)\\r\\n{\\r\\n    int clumps = 0;\\r\\n    for (int i = 0; i < nums.length - 1; i++)\\r\\n    {\\r\\n        if (nums[i] == nums[i+1])\\r\\n        {\\r\\n            clumps++;\\r\\n        }\\r\\n    }\\r\\n    return clumps;\\r\\n}\\r\\n<|endoftext|>', 'Say that a \"clump\" in an array is a series of 2 or more adjacent elements of the same value. Return the number of clumps in the given array.\\npublic int countClumps(int[] nums)\\r\\n{\\r\\n    int clumps = 0;\\r\\n    for (int i = 0; i < nums.length - 1; i++)\\r\\n    {\\r\\n        if (nums[i] == nums[i+1])\\r\\n        {\\r\\n            clumps++;\\r\\n        }\\r\\n    }\\r\\n    return clumps;\\r\\n}\\r\\n<|endoftext|>', 'Say that a \"clump\" in an array is a series of 2 or more adjacent elements of the same value. Return the number of clumps in the given array.\\npublic int countClumps(int[] nums)\\r\\n{\\r\\n    int clumps = 0;\\r\\n    for (int i = 0; i < nums.length - 1; i++)\\r\\n    {\\r\\n        if (nums[i] == nums[i+1])\\r\\n        {\\r\\n            clumps++;\\r\\n        }\\r\\n    }\\r\\n    return clumps;\\r\\n}\\r\\n<|endoftext|>', 'Say that a \"clump\" in an array is a series of 2 or more adjacent elements of the same value. Return the number of clumps in the given array.\\npublic int countClumps(int[] nums)\\r\\n{\\r\\n    int clumps = 0;\\r\\n    for (int i = 0; i < nums.length - 1; i++)\\r\\n    {\\r\\n        if (nums[i] == nums[i+1])\\r\\n        {\\r\\n            clumps++;\\r\\n        }\\r\\n    }\\r\\n    return clumps;\\r\\n}\\r\\n<|endoftext|>', 'Say that a \"clump\" in an array is a series of 2 or more adjacent elements of the same value. Return the number of clumps in the given array.\\npublic int countClumps(int[] nums)\\r\\n{\\r\\n    int clumps = 0;\\r\\n    for (int i = 0; i < nums.length - 1; i++)\\r\\n    {\\r\\n        if (nums[i] == nums[i+1])\\r\\n        {\\r\\n            clumps++;\\r\\n        }\\r\\n    }\\r\\n    return clumps;\\r\\n}\\r\\n<|endoftext|>', 'Say that a \"clump\" in an array is a series of 2 or more adjacent elements of the same value. Return the number of clumps in the given array.\\npublic int countClumps(int[] nums)\\r\\n{\\r\\n    int clumps = 0;\\r\\n    for (int i = 0; i < nums.length - 1; i++)\\r\\n    {\\r\\n        if (nums[i] == nums[i+1])\\r\\n        {\\r\\n            clumps++;\\r\\n        }\\r\\n    }\\r\\n    return clumps;\\r\\n}\\r\\n<|endoftext|>', 'Say that a \"clump\" in an array is a series of 2 or more adjacent elements of the same value. Return the number of clumps in the given array.\\npublic int countClumps(int[] nums)\\r\\n{\\r\\n    int clumps = 0;\\r\\n    for (int i = 0; i < nums.length - 1; i++)\\r\\n    {\\r\\n        if (nums[i] == nums[i+1])\\r\\n        {\\r\\n            clumps++;\\r\\n        }\\r\\n    }\\r\\n    return clumps;\\r\\n}\\r\\n<|endoftext|>', 'Say that a \"clump\" in an array is a series of 2 or more adjacent elements of the same value. Return the number of clumps in the given array.\\npublic int countClumps(int[] nums)\\r\\n{\\r\\n    int clumps = 0;\\r\\n    for (int i = 0; i < nums.length - 1; i++)\\r\\n    {\\r\\n        if (nums[i] == nums[i+1])\\r\\n        {\\r\\n            clumps++;\\r\\n        }\\r\\n    }\\r\\n    return clumps;\\r\\n}\\r\\n<|endoftext|>', \"Given an array, return an array that contains exactly the same numbers as the original array, but rearranged so that every 4 is immediately followed by a 5. Do not move the 4's, but every other number may move. The array contains the same number of 4's and 5's, and every 4 has a number after it that is not a 4. In this version, 5's may appear anywhere in the original array. (This is a slightly harder version of the fix34 problem.)                                                                                                                                                                                                        \", \"Given an array, return an array that contains exactly the same numbers as the original array, but rearranged so that every 4 is immediately followed by a 5. Do not move the 4's, but every other number may move. The array contains the same number of 4's and 5's, and every 4 has a number after it that is not a 4. In this version, 5's may appear anywhere in the original array. (This is a slightly harder version of the fix34 problem.)                                                                                                                                                                                                        \", \"Given an array, return an array that contains exactly the same numbers as the original array, but rearranged so that every 4 is immediately followed by a 5. Do not move the 4's, but every other number may move. The array contains the same number of 4's and 5's, and every 4 has a number after it that is not a 4. In this version, 5's may appear anywhere in the original array. (This is a slightly harder version of the fix34 problem.)                                                                                                                                                                                                        \", \"Given an array, return an array that contains exactly the same numbers as the original array, but rearranged so that every 4 is immediately followed by a 5. Do not move the 4's, but every other number may move. The array contains the same number of 4's and 5's, and every 4 has a number after it that is not a 4. In this version, 5's may appear anywhere in the original array. (This is a slightly harder version of the fix34 problem.)                                                                                                                                                                                                        \", \"Given an array, return an array that contains exactly the same numbers as the original array, but rearranged so that every 4 is immediately followed by a 5. Do not move the 4's, but every other number may move. The array contains the same number of 4's and 5's, and every 4 has a number after it that is not a 4. In this version, 5's may appear anywhere in the original array. (This is a slightly harder version of the fix34 problem.)                                                                                                                                                                                                        \", \"Given an array, return an array that contains exactly the same numbers as the original array, but rearranged so that every 4 is immediately followed by a 5. Do not move the 4's, but every other number may move. The array contains the same number of 4's and 5's, and every 4 has a number after it that is not a 4. In this version, 5's may appear anywhere in the original array. (This is a slightly harder version of the fix34 problem.)                                                                                                                                                                                                        \", \"Given an array, return an array that contains exactly the same numbers as the original array, but rearranged so that every 4 is immediately followed by a 5. Do not move the 4's, but every other number may move. The array contains the same number of 4's and 5's, and every 4 has a number after it that is not a 4. In this version, 5's may appear anywhere in the original array. (This is a slightly harder version of the fix34 problem.)                                                                                                                                                                                                        \", \"Given an array, return an array that contains exactly the same numbers as the original array, but rearranged so that every 4 is immediately followed by a 5. Do not move the 4's, but every other number may move. The array contains the same number of 4's and 5's, and every 4 has a number after it that is not a 4. In this version, 5's may appear anywhere in the original array. (This is a slightly harder version of the fix34 problem.)                                                                                                                                                                                                        \", \"Given an array, return an array that contains exactly the same numbers as the original array, but rearranged so that every 4 is immediately followed by a 5. Do not move the 4's, but every other number may move. The array contains the same number of 4's and 5's, and every 4 has a number after it that is not a 4. In this version, 5's may appear anywhere in the original array. (This is a slightly harder version of the fix34 problem.)                                                                                                                                                                                                        \", \"Given an array, return an array that contains exactly the same numbers as the original array, but rearranged so that every 4 is immediately followed by a 5. Do not move the 4's, but every other number may move. The array contains the same number of 4's and 5's, and every 4 has a number after it that is not a 4. In this version, 5's may appear anywhere in the original array. (This is a slightly harder version of the fix34 problem.)                                                                                                                                                                                                        \", \"Given an array, return an array that contains exactly the same numbers as the original array, but rearranged so that every 4 is immediately followed by a 5. Do not move the 4's, but every other number may move. The array contains the same number of 4's and 5's, and every 4 has a number after it that is not a 4. In this version, 5's may appear anywhere in the original array. (This is a slightly harder version of the fix34 problem.)                                                                                                                                                                                                        \", \"Given an array, return an array that contains exactly the same numbers as the original array, but rearranged so that every 4 is immediately followed by a 5. Do not move the 4's, but every other number may move. The array contains the same number of 4's and 5's, and every 4 has a number after it that is not a 4. In this version, 5's may appear anywhere in the original array. (This is a slightly harder version of the fix34 problem.)                                                                                                                                                                                                        \", \"Given an array, return an array that contains exactly the same numbers as the original array, but rearranged so that every 4 is immediately followed by a 5. Do not move the 4's, but every other number may move. The array contains the same number of 4's and 5's, and every 4 has a number after it that is not a 4. In this version, 5's may appear anywhere in the original array. (This is a slightly harder version of the fix34 problem.)                                                                                                                                                                                                        \", \"Given an array, return an array that contains exactly the same numbers as the original array, but rearranged so that every 4 is immediately followed by a 5. Do not move the 4's, but every other number may move. The array contains the same number of 4's and 5's, and every 4 has a number after it that is not a 4. In this version, 5's may appear anywhere in the original array. (This is a slightly harder version of the fix34 problem.)                                                                                                                                                                                                        \", 'Given an int array, return the sum of the numbers in the array, except ignore sections of numbers starting with a 6 and extending to the next 7 (every 6 will be followed by at least one 7). Return 0 for no numbers.\\npublic int sum67(int[] nums)\\r\\n{\\r\\n    int sum = 0;\\r\\n    for (int i = 0; i < nums.length; i++)\\r\\n    {\\r\\n        if (nums[i] == 6)\\r\\n        {\\r\\n            while (nums[i]!= 7)\\r\\n            {\\r\\n                i++;\\r\\n            }\\r\\n        }\\r\\n        else\\r\\n        {\\r\\n            sum += nums[i];', \"Given an int[] array, write a function that returns an array where all the 10's have been removed. The remaining elements should shift left towards the start of the array as needed, and the empty spaces at the end of the array should be set to 0. So {1, 10, 10, 2} yields {1, 2, 0, 0}. You may modify and return the given array or make a new array. The array is immutable, so long as it is not null.\\npublic int[] withoutTen(int[] nums)\\r\\n{\\r\\n    int[] newArray = new int[nums.length];\\r\\n    int count = 0;\\r\\n    for (int i = 0; i < nums.length; i++)\\r\\n    {\\r\\n        if (nums[i]!= 10)\\r\\n        {\\r\\n            newArray[count] = nums[i];\\r\\n            count++;\\r\\n        }\\r\\n    }\\r\\n    return newArray;\\r\\n}\\r\\n<|endoftext|>\", \"Given an int[] array, write a function that returns an array where all the 10's have been removed. The remaining elements should shift left towards the start of the array as needed, and the empty spaces at the end of the array should be set to 0. So {1, 10, 10, 2} yields {1, 2, 0, 0}. You may modify and return the given array or make a new array. The array is immutable, so long as it is not null.\\npublic int[] withoutTen(int[] nums)\\r\\n{\\r\\n    int[] newArray = new int[nums.length];\\r\\n    int count = 0;\\r\\n    for (int i = 0; i < nums.length; i++)\\r\\n    {\\r\\n        if (nums[i]!= 10)\\r\\n        {\\r\\n            newArray[count] = nums[i];\\r\\n            count++;\\r\\n        }\\r\\n    }\\r\\n    return newArray;\\r\\n}\\r\\n<|endoftext|>\", 'For each multiple of 10 in the given array, change all the values following it to be that multiple of 10, until encountering another multiple of 10. So {2, 10, 3, 4, 20, 5} yields {2, 10, 10, 10, 20, 20}.\\npublic int[] tenRun(int[] nums)\\r\\n{\\r\\n    int[] ten = new int[nums.length];\\r\\n    for (int i = 0; i < nums.length; i++)\\r\\n    {\\r\\n        if (nums[i] % 10 == 0)\\r\\n        {\\r\\n            ten[i] = nums[i];\\r\\n        }\\r\\n        else\\r\\n        {\\r\\n            ten[i] = nums[i];\\r\\n        }\\r\\n    }\\r\\n    return ten;\\r\\n}\\r\\n<|endoftext|>', \"Return the centered average of an array of ints, which we'll say is the mean average of the values, except ignoring the largest and smallest values in the array. If there are multiple copies of the smallest value, ignore just one copy, and likewise for the largest value. Use int division to produce the final average. You may assume that the array has a length of 3 or more.                                                                                                                                                                                                        \", \"Return the centered average of an array of ints, which we'll say is the mean average of the values, except ignoring the largest and smallest values in the array. If there are multiple copies of the smallest value, ignore just one copy, and likewise for the largest value. Use int division to produce the final average. You may assume that the array has a length of 3 or more.                                                                                                                                                                                                        \", 'Given a number n, create and return a new int array of length n, containing the numbers 0, 1, 2,... n-1. The given n may be 0, in which case just return a length 0 array. You do not need a separate if statement for the length-0 case; the for loop should naturally execute 0 times in that case, so it just works. The syntax to make a new int array is new int[desired_length].nums(n);nums(n)\\r;\\r;\\r;\\r;\\r;\\r;\\r;\\r;\\r;\\r;\\r;\\r;\\r;\\r;\\r;\\r;\\r;\\r;\\r;\\r;\\r;\\r;\\r;\\r;\\r;\\r;\\r;\\r;\\r;\\r;\\r;\\r;\\r;\\r;\\r;\\r;\\r;\\r;\\r;\\r;\\r;\\r;\\r;\\r;\\r;\\r;\\r;\\r;\\r;\\r;\\r;\\r;\\r;\\r;\\r;\\r;\\r;\\r;\\r;\\r;\\r;\\r;\\r;\\r;\\r;\\r;\\r;\\r;\\r;\\r;\\r;\\r;\\r;\\r;\\r;\\r;\\r;\\r;\\r;\\r;\\r;\\r;\\r;\\r;\\r;\\r;\\r;\\r;\\r;\\r;\\r;\\r;\\r;\\r;\\r;', 'Consider the series of numbers beginning at start and running up to but not including end, so for example start=1 and end=5 gives the series 1, 2, 3, 4. Return a new String[] array containing the string form of these numbers, except in the case of multiples of 3, use \"Fizz\" instead of the number, and for multiples of 5 use \"Buzz\", and for multiples of both 3 and 5 use \"FizzBuzz\". In Java, String.valueOf(xxx) will make the String form of an int or other type. String[] arr = new String[n];\\r;\\r;\\r;\\r;\\r;\\r;\\r;\\r;\\r;\\r;\\r;\\r;\\r;\\r;\\r;\\r;\\r;\\r;\\r;\\r;\\r;\\r;\\r;\\r;\\r;\\r;\\r;\\r;\\r;\\r;\\r;\\r;\\r;\\r;\\r;\\r;\\r;\\r;\\r;\\r;\\r;\\r;\\r;\\r;\\r;\\r;\\r;\\r;\\r;\\r;\\r;\\r;\\r;\\r;\\r;\\r;\\r;\\r;\\r;\\r;\\r;\\r;\\r;\\r;\\r;\\r;\\r;\\r;\\r;\\r;\\r;\\r;\\r;\\r;\\r;\\r;\\r;\\r;\\r;\\r;\\r;\\r;\\r;\\r;\\r;\\r;\\r;\\r;\\r;\\r;\\r;\\r;\\r;\\r;\\r;\\r', 'Consider the series of numbers beginning at start and running up to but not including end, so for example start=1 and end=5 gives the series 1, 2, 3, 4. Return a new String[] array containing the string form of these numbers, except in the case of multiples of 3, use \"Fizz\" instead of the number, and for multiples of 5 use \"Buzz\", and for multiples of both 3 and 5 use \"FizzBuzz\". In Java, String.valueOf(xxx) will make the String form of an int or other type. String[] arr = new String[n];\\r;\\r;\\r;\\r;\\r;\\r;\\r;\\r;\\r;\\r;\\r;\\r;\\r;\\r;\\r;\\r;\\r;\\r;\\r;\\r;\\r;\\r;\\r;\\r;\\r;\\r;\\r;\\r;\\r;\\r;\\r;\\r;\\r;\\r;\\r;\\r;\\r;\\r;\\r;\\r;\\r;\\r;\\r;\\r;\\r;\\r;\\r;\\r;\\r;\\r;\\r;\\r;\\r;\\r;\\r;\\r;\\r;\\r;\\r;\\r;\\r;\\r;\\r;\\r;\\r;\\r;\\r;\\r;\\r;\\r;\\r;\\r;\\r;\\r;\\r;\\r;\\r;\\r;\\r;\\r;\\r;\\r;\\r;\\r;\\r;\\r;\\r;\\r;\\r;\\r;\\r;\\r;\\r;\\r;\\r;\\r', 'Given an array of ints, return true if every 2 that appears in the array is next to another 2. Otherwise, return false.                                                                                                                                                                                                        ', 'Given an array of ints, return true if every 2 that appears in the array is next to another 2. Otherwise, return false.                                                                                                                                                                                                        ', 'Given a non-empty array, return true if there is a place to split the array so that the sum of the numbers on one side is equal to the sum of the numbers on the other side.\\npublic boolean canBalance(int[] nums)\\r\\n{\\r\\n    int left = 0;\\r\\n    int right;\\r\\n    for (int i = 0; i < nums.length - 1; i++)\\r\\n    {\\r\\n        left += nums[i];\\r\\n        right = nums[nums.length-1];\\r\\n    }\\r\\n    for (int i = nums.length - 2; i > 0; i--)\\r\\n    {\\r\\n        left -= nums[i];\\r\\n        right += nums[i];\\r\\n    }\\r\\n    return left == right;\\r\\n}\\r\\n<|endoftext|>', 'Given n >= 0, create an array with the pattern {1, 1, 2, 1, 2, 3,... 1, 2, 3.. n} (spaces added to show the grouping). Note that the length of the array will be 1 + 2 + 3... + n, which is known to sum to exactly n * (n + 1)/2.                                                                                                                                                                                                        ', 'Return an array that is \"left shifted\" by one--so for an input of {6, 2, 5, 3}, the method returns {2, 5, 3, 6}. You may modify and return the given array, or return a new array.array.array.array.array.array.array.array.array.array.array.array.array.array.array.array.array.array.array.array.array.array.array.array.array.array.array.array.array.array.array.array.array.array.array.array.array.array.array.array.array.array.array.array.array.array.array.array.array.array.array.array.array.array.array.array.array.array.array.array.array.array.array.array.array.array.array.array.array.array.array.array.array.array.array.array.array.array.array.array.array.array.array.array.array.array.array.array.array.array.array.array.array.array.array.array.array.array.array.array.array.']\n"
     ]
    }
   ],
   "source": [
    "print(len(generate_codes))\n",
    "print(generate_codes)"
   ]
  },
  {
   "cell_type": "code",
   "execution_count": 36,
   "id": "70bd67bd-c7e1-4477-a478-750eba9efe33",
   "metadata": {},
   "outputs": [
    {
     "name": "stdout",
     "output_type": "stream",
     "text": [
      "50\n"
     ]
    }
   ],
   "source": [
    "#用对应的真实代码进行对比\n",
    "\n",
    "ground_truth_codes=[]\n",
    "for i in range(50):\n",
    "    ground_truth_codes.append(dataset.loc[i,'Code'])\n",
    "print(len(ground_truth_codes))"
   ]
  },
  {
   "cell_type": "code",
   "execution_count": 19,
   "id": "981dfe7f-11dd-4458-9c0b-b20de5869365",
   "metadata": {},
   "outputs": [],
   "source": [
    "#计算CodeBLUE\n",
    "\n",
    "from codebleu import calc_codebleu\n",
    "\n",
    "def compute_codebleu(ground_truth_codes, generated_codes):\n",
    "    params='0.25,0.25,0.25,0.25'\n",
    "    lang='java'\n",
    "    codebleu_score= calc_codebleu(\n",
    "                        references=ground_truth_codes, predictions=generated_codes, lang=lang)\n",
    "    return codebleu_score"
   ]
  },
  {
   "cell_type": "code",
   "execution_count": 14,
   "id": "fa1e3cbc-a567-451a-b0fa-2f61876d6d8f",
   "metadata": {},
   "outputs": [],
   "source": [
    "results = {}\n",
    "codebleu_score= compute_codebleu(ground_truth_codes, generate_codes)\n",
    "results['codebleu'] = codebleu_score"
   ]
  },
  {
   "cell_type": "code",
   "execution_count": 15,
   "id": "8eed5ca7-8d84-4a9f-a902-b5e6be3d6f90",
   "metadata": {},
   "outputs": [
    {
     "name": "stdout",
     "output_type": "stream",
     "text": [
      "{'codebleu': 0.10672738617872526, 'ngram_match_score': 0.06909512689426857, 'weighted_ngram_match_score': 0.11687508867745443, 'syntax_match_score': 0.09749670619235837, 'dataflow_match_score': 0.14344262295081966}\n"
     ]
    }
   ],
   "source": [
    "print(results['codebleu'])"
   ]
  },
  {
   "cell_type": "code",
   "execution_count": 34,
   "id": "14a818b5-240e-45b2-8ce9-4e88c064017e",
   "metadata": {
    "jupyter": {
     "source_hidden": true
    },
    "tags": []
   },
   "outputs": [],
   "source": [
    "#计算Dist-N\n",
    "import nltk\n",
    "\n",
    "from collections import Iterable\n",
    "\n",
    "import abc\n",
    "\n",
    "def pad_sequence(\n",
    "    sequence,\n",
    "    n,\n",
    "    pad_left=False,\n",
    "    pad_right=False,\n",
    "    left_pad_symbol=None,\n",
    "    right_pad_symbol=None,\n",
    "):\n",
    "    \"\"\"\n",
    "    Returns a padded sequence of items before ngram extraction.\n",
    "\n",
    "        >>> list(pad_sequence([1,2,3,4,5], 2, pad_left=True, pad_right=True, left_pad_symbol='<s>', right_pad_symbol='</s>'))\n",
    "        ['<s>', 1, 2, 3, 4, 5, '</s>']\n",
    "        >>> list(pad_sequence([1,2,3,4,5], 2, pad_left=True, left_pad_symbol='<s>'))\n",
    "        ['<s>', 1, 2, 3, 4, 5]\n",
    "        >>> list(pad_sequence([1,2,3,4,5], 2, pad_right=True, right_pad_symbol='</s>'))\n",
    "        [1, 2, 3, 4, 5, '</s>']\n",
    "\n",
    "    :param sequence: the source data to be padded\n",
    "    :type sequence: sequence or iter\n",
    "    :param n: the degree of the ngrams\n",
    "    :type n: int\n",
    "    :param pad_left: whether the ngrams should be left-padded\n",
    "    :type pad_left: bool\n",
    "    :param pad_right: whether the ngrams should be right-padded\n",
    "    :type pad_right: bool\n",
    "    :param left_pad_symbol: the symbol to use for left padding (default is None)\n",
    "    :type left_pad_symbol: any\n",
    "    :param right_pad_symbol: the symbol to use for right padding (default is None)\n",
    "    :type right_pad_symbol: any\n",
    "    :rtype: sequence or iter\n",
    "    \"\"\"\n",
    "    sequence = iter(sequence)\n",
    "    if pad_left:\n",
    "        sequence = chain((left_pad_symbol,) * (n - 1), sequence)\n",
    "    if pad_right:\n",
    "        sequence = chain(sequence, (right_pad_symbol,) * (n - 1))\n",
    "    return sequence\n",
    "\n",
    "\n",
    "\n",
    "def ngrams(sequence, n, **kwargs):\n",
    "    \"\"\"\n",
    "    Return the ngrams generated from a sequence of items, as an iterator.\n",
    "    For example:\n",
    "\n",
    "        >>> from nltk.util import ngrams\n",
    "        >>> list(ngrams([1,2,3,4,5], 3))\n",
    "        [(1, 2, 3), (2, 3, 4), (3, 4, 5)]\n",
    "\n",
    "    Wrap with list for a list version of this function.  Set pad_left\n",
    "    or pad_right to true in order to get additional ngrams:\n",
    "\n",
    "        >>> list(ngrams([1,2,3,4,5], 2, pad_right=True))\n",
    "        [(1, 2), (2, 3), (3, 4), (4, 5), (5, None)]\n",
    "        >>> list(ngrams([1,2,3,4,5], 2, pad_right=True, right_pad_symbol='</s>'))\n",
    "        [(1, 2), (2, 3), (3, 4), (4, 5), (5, '</s>')]\n",
    "        >>> list(ngrams([1,2,3,4,5], 2, pad_left=True, left_pad_symbol='<s>'))\n",
    "        [('<s>', 1), (1, 2), (2, 3), (3, 4), (4, 5)]\n",
    "        >>> list(ngrams([1,2,3,4,5], 2, pad_left=True, pad_right=True, left_pad_symbol='<s>', right_pad_symbol='</s>'))\n",
    "        [('<s>', 1), (1, 2), (2, 3), (3, 4), (4, 5), (5, '</s>')]\n",
    "\n",
    "\n",
    "    :param sequence: the source data to be converted into ngrams\n",
    "    :type sequence: sequence or iter\n",
    "    :param n: the degree of the ngrams\n",
    "    :type n: int\n",
    "    :param pad_left: whether the ngrams should be left-padded\n",
    "    :type pad_left: bool\n",
    "    :param pad_right: whether the ngrams should be right-padded\n",
    "    :type pad_right: bool\n",
    "    :param left_pad_symbol: the symbol to use for left padding (default is None)\n",
    "    :type left_pad_symbol: any\n",
    "    :param right_pad_symbol: the symbol to use for right padding (default is None)\n",
    "    :type right_pad_symbol: any\n",
    "    :rtype: sequence or iter\n",
    "    \"\"\"\n",
    "    sequence = pad_sequence(sequence, n, **kwargs)\n",
    "\n",
    "    # Creates the sliding window, of n no. of items.\n",
    "    # `iterables` is a tuple of iterables where each iterable is a window of n items.\n",
    "    iterables = tee(sequence, n)\n",
    "\n",
    "    for i, sub_iterable in enumerate(iterables):  # For each window,\n",
    "        for _ in range(i):  # iterate through every order of ngrams\n",
    "            next(sub_iterable, None)  # generate the ngrams within the window.\n",
    "    return zip(*iterables)  # Unpack and flattens the iterables.\n",
    "\n",
    "class Metric():\n",
    "    \"\"\"\n",
    "    Defines a text quality metric.\n",
    "    \"\"\"\n",
    "\n",
    "    def get_name(self):\n",
    "        return self.name\n",
    "\n",
    "    @abc.abstractmethod\n",
    "    def compute_metric(self, texts):\n",
    "        pass\n",
    "\n",
    "class Distinct_N(Metric):\n",
    "\n",
    "    def __init__(self, n):\n",
    "        self.n = n\n",
    "        self.name = f'Distinct_{n}'\n",
    "\n",
    "    def compute_metric(self, texts):\n",
    "        return self._distinct_ngrams(texts, self.n)\n",
    "\n",
    "    def _distinct_ngrams(self, texts, n):\n",
    "        total = 0.0\n",
    "        for t in texts:\n",
    "            tokens = nltk.tokenize.word_tokenize(t)\n",
    "            n_distinct = len(set(ngrams(tokens, n)))\n",
    "            total += n_distinct/ len(tokens)\n",
    "        return total / len(texts)"
   ]
  },
  {
   "cell_type": "code",
   "execution_count": 35,
   "id": "af1c4591-29d4-458a-82d7-f5764b9b54e9",
   "metadata": {
    "collapsed": true,
    "jupyter": {
     "outputs_hidden": true
    },
    "tags": []
   },
   "outputs": [
    {
     "ename": "NameError",
     "evalue": "name 'tee' is not defined",
     "output_type": "error",
     "traceback": [
      "\u001b[0;31m---------------------------------------------------------------------------\u001b[0m",
      "\u001b[0;31mNameError\u001b[0m                                 Traceback (most recent call last)",
      "Cell \u001b[0;32mIn[35], line 7\u001b[0m\n\u001b[1;32m      2\u001b[0m metrics \u001b[38;5;241m=\u001b[39m {\u001b[38;5;124m'\u001b[39m\u001b[38;5;124mdist_1\u001b[39m\u001b[38;5;124m'\u001b[39m: Distinct_N(\u001b[38;5;241m1\u001b[39m), \n\u001b[1;32m      3\u001b[0m             \u001b[38;5;124m'\u001b[39m\u001b[38;5;124mdist_2\u001b[39m\u001b[38;5;124m'\u001b[39m: Distinct_N(\u001b[38;5;241m2\u001b[39m), \n\u001b[1;32m      4\u001b[0m             \u001b[38;5;124m'\u001b[39m\u001b[38;5;124mdist_3\u001b[39m\u001b[38;5;124m'\u001b[39m: Distinct_N(\u001b[38;5;241m3\u001b[39m),\n\u001b[1;32m      5\u001b[0m }\n\u001b[1;32m      6\u001b[0m \u001b[38;5;28;01mfor\u001b[39;00m i, (name, metric) \u001b[38;5;129;01min\u001b[39;00m \u001b[38;5;28menumerate\u001b[39m(metrics\u001b[38;5;241m.\u001b[39mitems()):\n\u001b[0;32m----> 7\u001b[0m     metric_result \u001b[38;5;241m=\u001b[39m \u001b[43mmetric\u001b[49m\u001b[38;5;241;43m.\u001b[39;49m\u001b[43mcompute_metric\u001b[49m\u001b[43m(\u001b[49m\u001b[43mgenerate_codes\u001b[49m\u001b[43m)\u001b[49m\n\u001b[1;32m      8\u001b[0m     results[name] \u001b[38;5;241m=\u001b[39m metric_result\n\u001b[1;32m      9\u001b[0m     \u001b[38;5;28mprint\u001b[39m(metric_result)\n",
      "Cell \u001b[0;32mIn[34], line 117\u001b[0m, in \u001b[0;36mDistinct_N.compute_metric\u001b[0;34m(self, texts)\u001b[0m\n\u001b[1;32m    116\u001b[0m \u001b[38;5;28;01mdef\u001b[39;00m \u001b[38;5;21mcompute_metric\u001b[39m(\u001b[38;5;28mself\u001b[39m, texts):\n\u001b[0;32m--> 117\u001b[0m     \u001b[38;5;28;01mreturn\u001b[39;00m \u001b[38;5;28;43mself\u001b[39;49m\u001b[38;5;241;43m.\u001b[39;49m\u001b[43m_distinct_ngrams\u001b[49m\u001b[43m(\u001b[49m\u001b[43mtexts\u001b[49m\u001b[43m,\u001b[49m\u001b[43m \u001b[49m\u001b[38;5;28;43mself\u001b[39;49m\u001b[38;5;241;43m.\u001b[39;49m\u001b[43mn\u001b[49m\u001b[43m)\u001b[49m\n",
      "Cell \u001b[0;32mIn[34], line 123\u001b[0m, in \u001b[0;36mDistinct_N._distinct_ngrams\u001b[0;34m(self, texts, n)\u001b[0m\n\u001b[1;32m    121\u001b[0m \u001b[38;5;28;01mfor\u001b[39;00m t \u001b[38;5;129;01min\u001b[39;00m texts:\n\u001b[1;32m    122\u001b[0m     tokens \u001b[38;5;241m=\u001b[39m nltk\u001b[38;5;241m.\u001b[39mtokenize\u001b[38;5;241m.\u001b[39mword_tokenize(t)\n\u001b[0;32m--> 123\u001b[0m     n_distinct \u001b[38;5;241m=\u001b[39m \u001b[38;5;28mlen\u001b[39m(\u001b[38;5;28mset\u001b[39m(\u001b[43mngrams\u001b[49m\u001b[43m(\u001b[49m\u001b[43mtokens\u001b[49m\u001b[43m,\u001b[49m\u001b[43m \u001b[49m\u001b[43mn\u001b[49m\u001b[43m)\u001b[49m))\n\u001b[1;32m    124\u001b[0m     total \u001b[38;5;241m+\u001b[39m\u001b[38;5;241m=\u001b[39m n_distinct\u001b[38;5;241m/\u001b[39m \u001b[38;5;28mlen\u001b[39m(tokens)\n\u001b[1;32m    125\u001b[0m \u001b[38;5;28;01mreturn\u001b[39;00m total \u001b[38;5;241m/\u001b[39m \u001b[38;5;28mlen\u001b[39m(texts)\n",
      "Cell \u001b[0;32mIn[34], line 89\u001b[0m, in \u001b[0;36mngrams\u001b[0;34m(sequence, n, **kwargs)\u001b[0m\n\u001b[1;32m     85\u001b[0m sequence \u001b[38;5;241m=\u001b[39m pad_sequence(sequence, n, \u001b[38;5;241m*\u001b[39m\u001b[38;5;241m*\u001b[39mkwargs)\n\u001b[1;32m     87\u001b[0m \u001b[38;5;66;03m# Creates the sliding window, of n no. of items.\u001b[39;00m\n\u001b[1;32m     88\u001b[0m \u001b[38;5;66;03m# `iterables` is a tuple of iterables where each iterable is a window of n items.\u001b[39;00m\n\u001b[0;32m---> 89\u001b[0m iterables \u001b[38;5;241m=\u001b[39m \u001b[43mtee\u001b[49m(sequence, n)\n\u001b[1;32m     91\u001b[0m \u001b[38;5;28;01mfor\u001b[39;00m i, sub_iterable \u001b[38;5;129;01min\u001b[39;00m \u001b[38;5;28menumerate\u001b[39m(iterables):  \u001b[38;5;66;03m# For each window,\u001b[39;00m\n\u001b[1;32m     92\u001b[0m     \u001b[38;5;28;01mfor\u001b[39;00m _ \u001b[38;5;129;01min\u001b[39;00m \u001b[38;5;28mrange\u001b[39m(i):  \u001b[38;5;66;03m# iterate through every order of ngrams\u001b[39;00m\n",
      "\u001b[0;31mNameError\u001b[0m: name 'tee' is not defined"
     ]
    }
   ],
   "source": [
    "## compute diversity\n",
    "metrics = {'dist_1': Distinct_N(1), \n",
    "            'dist_2': Distinct_N(2), \n",
    "            'dist_3': Distinct_N(3),\n",
    "}\n",
    "for i, (name, metric) in enumerate(metrics.items()):\n",
    "    metric_result = metric.compute_metric(generate_codes)\n",
    "    results[name] = metric_result\n",
    "    print(metric_result)"
   ]
  },
  {
   "cell_type": "code",
   "execution_count": 45,
   "id": "7acb5b82-3c8a-4063-96af-cc8c566b5f45",
   "metadata": {
    "tags": []
   },
   "outputs": [
    {
     "name": "stdout",
     "output_type": "stream",
     "text": [
      "generate_score= 0.0892122330129225\n",
      "actual_score= 0.12385099950064055\n",
      "p= 0.8334312613156932\n",
      "delta_p= 0.16656873868430677\n"
     ]
    }
   ],
   "source": [
    "def calculate_diversity(text):\n",
    "    # 将文本转换为字符列表\n",
    "    chars = list(text)\n",
    "    \n",
    "    # 计算字符总数和唯一字符数\n",
    "    num_chars = len(chars)\n",
    "    unique_chars = set(chars)\n",
    "    num_unique_chars = len(unique_chars)\n",
    "    \n",
    "    # 计算多样性指数\n",
    "    diversity = num_unique_chars / num_chars\n",
    "    \n",
    "    return diversity\n",
    "\n",
    "\n",
    "sum_gen=0\n",
    "list_gen=[]\n",
    "sum_act=0\n",
    "list_act=[]\n",
    "\n",
    "sum_p=0\n",
    "p=0\n",
    "list_p=[]\n",
    "\n",
    "for i in range(50):\n",
    "    score_gen=calculate_diversity(generate_codes[i])\n",
    "    list_gen.append(score_gen)\n",
    "    sum_gen=sum_gen+score_gen\n",
    "    \n",
    "    score_act=calculate_diversity(ground_truth_codes[i])\n",
    "    list_act.append(score_act)\n",
    "    sum_act=sum_act+score_act\n",
    "    \n",
    "    p=score_gen/score_act\n",
    "    sum_p=sum_p+p\n",
    "    list_p.append(p)\n",
    "    \n",
    "    \n",
    "sum_gen=sum_gen/50\n",
    "sum_act=sum_act/50\n",
    "\n",
    "print('generate_score=',sum_gen)\n",
    "print('actual_score=',sum_act)\n",
    "print('p=',sum_p/50)\n",
    "\n",
    "print('delta_p=',abs(1-sum_p/50))"
   ]
  },
  {
   "cell_type": "code",
   "execution_count": null,
   "id": "9ab0f075-38b1-4fc1-b02c-0670922c827a",
   "metadata": {},
   "outputs": [],
   "source": []
  }
 ],
 "metadata": {
  "kernelspec": {
   "display_name": "Python 3 (ipykernel)",
   "language": "python",
   "name": "python3"
  },
  "language_info": {
   "codemirror_mode": {
    "name": "ipython",
    "version": 3
   },
   "file_extension": ".py",
   "mimetype": "text/x-python",
   "name": "python",
   "nbconvert_exporter": "python",
   "pygments_lexer": "ipython3",
   "version": "3.8.10"
  }
 },
 "nbformat": 4,
 "nbformat_minor": 5
}
